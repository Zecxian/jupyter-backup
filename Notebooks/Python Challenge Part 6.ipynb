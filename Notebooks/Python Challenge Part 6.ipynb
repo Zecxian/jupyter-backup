{
 "cells": [
  {
   "cell_type": "code",
   "execution_count": 1,
   "metadata": {},
   "outputs": [
    {
     "name": "stdout",
     "output_type": "stream",
     "text": [
      "<html> <!-- <-- zip -->\n",
      "<head>\n",
      "  <title>now there are pairs</title>\n",
      "  <link rel=\"stylesheet\" type=\"text/css\" href=\"../style.css\">\n",
      "</head>\n",
      "<body>\n",
      "<center>\n",
      "<img src=\"channel.jpg\">\n",
      "<br/>\n",
      "<!-- The following has nothing to do with the riddle itself. I just\n",
      "thought it would be the right point to offer you to donate to the\n",
      "Python Challenge project. Any amount will be greatly appreciated.\n",
      "\n",
      "-thesamet\n",
      "-->\n",
      "\n",
      "<form action=\"https://www.paypal.com/cgi-bin/webscr\" method=\"post\">\n",
      "    <input type=\"hidden\" name=\"cmd\" value=\"_xclick\">\n",
      "    <input type=\"hidden\" name=\"business\" value=\"thesamet@gmail.com\">\n",
      "    <input type=\"hidden\" name=\"item_name\" value=\"Python Challenge donations\">\n",
      "    <input type=\"hidden\" name=\"no_note\" value=\"1\">\n",
      "    <input type=\"hidden\" name=\"currency_code\" value=\"USD\">\n",
      "    <input type=\"hidden\" name=\"tax\" value=\"0\">\n",
      "    <input type=\"hidden\" name=\"bn\" value=\"PP-DonationsBF\">\n",
      "    <input type=\"image\" src=\"https://www.paypal.com/en_US/i/btn/x-click-but04.gif\" border=\"0\" name=\"submit\" alt=\"Make payments with PayPal - it's fast, free and secure!\">\n",
      "    <img alt=\"\" border=\"0\" src=\"https://www.paypal.com/en_US/i/scr/pixel.gif\" width=\"1\" height=\"1\">\n",
      "</form>\n",
      "\n",
      "</body>\n",
      "</html>\n",
      "\n"
     ]
    }
   ],
   "source": [
    "import urllib.request\n",
    "x = urllib.request.urlopen('http://www.pythonchallenge.com/pc/def/channel.html')\n",
    "source=x.read().decode('utf-8')\n",
    "print(source)"
   ]
  },
  {
   "cell_type": "code",
   "execution_count": 47,
   "metadata": {},
   "outputs": [
    {
     "name": "stdout",
     "output_type": "stream",
     "text": [
      "<zipfile.ZipFile file=<_io.BytesIO object at 0x0000018E31ABBE88> mode='r'>\n",
      "Next nothing is 94191\n",
      "46145\n",
      "Collect the comments.\n"
     ]
    }
   ],
   "source": [
    "import zipfile\n",
    "import io\n",
    "with urllib.request.urlopen('http://www.pythonchallenge.com/pc/def/channel.zip') as temp:\n",
    "    largeFile = zipfile.ZipFile(io.BytesIO(temp.read()))\n",
    "print(largeFile)\n",
    "print(largeFile.open(\"90052.txt\").read().decode())\n",
    "currentFile = \"90052.txt\"\n",
    "order = []\n",
    "nameList = largeFile.namelist()\n",
    "infoList = largeFile.infolist()\n",
    "while True:\n",
    "    inside = largeFile.open(currentFile).read().decode()\n",
    "    order.append(nameList.index(currentFile))\n",
    "    if not(\"Next nothing is \" in inside):\n",
    "        print(nextNum)\n",
    "        print(inside)\n",
    "        break\n",
    "    nextNum = \"\"\n",
    "    for i in inside:\n",
    "        if i.isnumeric():\n",
    "            nextNum += i\n",
    "    currentFile = nextNum + \".txt\""
   ]
  },
  {
   "cell_type": "code",
   "execution_count": 44,
   "metadata": {
    "scrolled": true
   },
   "outputs": [
    {
     "name": "stdout",
     "output_type": "stream",
     "text": [
      "Collect the comments.welcome to my zipped list.\n",
      "\n",
      "hint: start from \n",
      "hint: answer is inside the zip\n",
      "\n"
     ]
    }
   ],
   "source": [
    "out = \"\"\n",
    "for i in largeFile.namelist():\n",
    "    inside = largeFile.open(i).read().decode()\n",
    "    inside = inside.replace(\"Next nothing is \",\"\")\n",
    "    for j in inside:\n",
    "        if not(j.isnumeric()):\n",
    "            out += j\n",
    "print(out)"
   ]
  },
  {
   "cell_type": "code",
   "execution_count": 50,
   "metadata": {},
   "outputs": [
    {
     "name": "stdout",
     "output_type": "stream",
     "text": [
      "****************************************************************\n",
      "****************************************************************\n",
      "**                                                            **\n",
      "**   OO    OO    XX      YYYY    GG    GG  EEEEEE NN      NN  **\n",
      "**   OO    OO  XXXXXX   YYYYYY   GG   GG   EEEEEE  NN    NN   **\n",
      "**   OO    OO XXX  XXX YYY   YY  GG GG     EE       NN  NN    **\n",
      "**   OOOOOOOO XX    XX YY        GGG       EEEEE     NNNN     **\n",
      "**   OOOOOOOO XX    XX YY        GGG       EEEEE      NN      **\n",
      "**   OO    OO XXX  XXX YYY   YY  GG GG     EE         NN      **\n",
      "**   OO    OO  XXXXXX   YYYYYY   GG   GG   EEEEEE     NN      **\n",
      "**   OO    OO    XX      YYYY    GG    GG  EEEEEE     NN      **\n",
      "**                                                            **\n",
      "****************************************************************\n",
      " **************************************************************\n",
      "\n"
     ]
    }
   ],
   "source": [
    "comment = \"\"\n",
    "for i in order:\n",
    "    comment += (infoList[i].comment).decode()\n",
    "print(comment)"
   ]
  }
 ],
 "metadata": {
  "kernelspec": {
   "display_name": "Python 3",
   "language": "python",
   "name": "python3"
  },
  "language_info": {
   "codemirror_mode": {
    "name": "ipython",
    "version": 3
   },
   "file_extension": ".py",
   "mimetype": "text/x-python",
   "name": "python",
   "nbconvert_exporter": "python",
   "pygments_lexer": "ipython3",
   "version": "3.7.7"
  }
 },
 "nbformat": 4,
 "nbformat_minor": 4
}
