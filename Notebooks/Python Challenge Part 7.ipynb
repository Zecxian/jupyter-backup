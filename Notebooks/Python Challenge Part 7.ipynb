{
 "cells": [
  {
   "cell_type": "code",
   "execution_count": 3,
   "metadata": {},
   "outputs": [
    {
     "name": "stdout",
     "output_type": "stream",
     "text": [
      "<html>\n",
      "<head>\n",
      "  <title>smarty</title>\n",
      "  <link rel=\"stylesheet\" type=\"text/css\" href=\"../style.css\">\n",
      "</head>\n",
      "<body>\n",
      "\t<br><br>\n",
      "\t<center>\n",
      "\t<img src=\"oxygen.png\"/>\n",
      "</body>\n",
      "</html>\n",
      "\n"
     ]
    }
   ],
   "source": [
    "import urllib.request\n",
    "from PIL import Image\n",
    "x = urllib.request.urlopen('http://www.pythonchallenge.com/pc/def/oxygen.html')\n",
    "source=x.read().decode('utf-8')\n",
    "print(source)"
   ]
  },
  {
   "cell_type": "code",
   "execution_count": 43,
   "metadata": {},
   "outputs": [
    {
     "name": "stdout",
     "output_type": "stream",
     "text": [
      "<PIL.PngImagePlugin.PngImageFile image mode=RGBA size=629x95 at 0x271C3E34FC8>\n",
      "PNG (629, 95) RGBA\n",
      "(97, 97, 97, 255)\n",
      "(115, 115, 115, 255)\n",
      "[(115, 115, 115, 255), (109, 109, 109, 255), (97, 97, 97, 255), (114, 114, 114, 255), (116, 116, 116, 255), (32, 32, 32, 255), (103, 103, 103, 255), (117, 117, 117, 255), (121, 121, 121, 255), (44, 44, 44, 255), (32, 32, 32, 255), (121, 121, 121, 255), (111, 111, 111, 255), (117, 117, 117, 255), (32, 32, 32, 255), (109, 109, 109, 255), (97, 97, 97, 255), (100, 100, 100, 255), (101, 101, 101, 255), (32, 32, 32, 255), (105, 105, 105, 255), (116, 116, 116, 255), (46, 46, 46, 255), (32, 32, 32, 255), (116, 116, 116, 255), (104, 104, 104, 255), (101, 101, 101, 255), (32, 32, 32, 255), (110, 110, 110, 255), (101, 101, 101, 255), (120, 120, 120, 255), (116, 116, 116, 255), (32, 32, 32, 255), (108, 108, 108, 255), (101, 101, 101, 255), (118, 118, 118, 255), (101, 101, 101, 255), (108, 108, 108, 255), (32, 32, 32, 255), (105, 105, 105, 255), (115, 115, 115, 255), (32, 32, 32, 255), (91, 91, 91, 255), (49, 49, 49, 255), (48, 48, 48, 255), (53, 53, 53, 255), (44, 44, 44, 255), (32, 32, 32, 255), (49, 49, 49, 255), (49, 49, 49, 255), (48, 48, 48, 255), (44, 44, 44, 255), (32, 32, 32, 255), (49, 49, 49, 255), (49, 49, 49, 255), (54, 54, 54, 255), (44, 44, 44, 255), (32, 32, 32, 255), (49, 49, 49, 255), (48, 48, 48, 255), (49, 49, 49, 255), (44, 44, 44, 255), (32, 32, 32, 255), (49, 49, 49, 255), (48, 48, 48, 255), (51, 51, 51, 255), (44, 44, 44, 255), (32, 32, 32, 255), (49, 49, 49, 255), (49, 49, 49, 255), (52, 52, 52, 255), (44, 44, 44, 255), (32, 32, 32, 255), (49, 49, 49, 255), (48, 48, 48, 255), (53, 53, 53, 255), (44, 44, 44, 255), (32, 32, 32, 255), (49, 49, 49, 255), (49, 49, 49, 255), (54, 54, 54, 255), (44, 44, 44, 255), (32, 32, 32, 255), (49, 49, 49, 255), (50, 50, 50, 255), (49, 49, 49, 255), (93, 93, 93, 255), (118, 105, 53, 255), (115, 97, 51, 255), (101, 83, 45, 255)]\n"
     ]
    }
   ],
   "source": [
    "with urllib.request.urlopen('http://www.pythonchallenge.com/pc/def/oxygen.png') as oxygen:\n",
    "    picture = Image.open(oxygen)\n",
    "print(picture)\n",
    "print(picture.format, picture.size, picture.mode)\n",
    "pixels = picture.load()\n",
    "print(pixels[12,45])\n",
    "print(pixels[1,45])\n",
    "row = []\n",
    "for i in range(0,629,7):\n",
    "    value = (pixels[i,45])\n",
    "    row.append(value)\n",
    "print(row)"
   ]
  },
  {
   "cell_type": "code",
   "execution_count": 45,
   "metadata": {},
   "outputs": [
    {
     "name": "stdout",
     "output_type": "stream",
     "text": [
      "smart guy, you made it. the next level is [105, 110, 116, 101, 103, 114, 105, 116, 121]vse\n",
      "integrity\n"
     ]
    }
   ],
   "source": [
    "out = \"\"\n",
    "for i in row:\n",
    "    out += chr(i[0])\n",
    "print(out)\n",
    "new = [105, 110, 116, 101, 103, 114, 105, 116, 121]\n",
    "word = \"\"\n",
    "for i in new:\n",
    "    word += chr(i)\n",
    "print(word)"
   ]
  }
 ],
 "metadata": {
  "kernelspec": {
   "display_name": "Python 3",
   "language": "python",
   "name": "python3"
  },
  "language_info": {
   "codemirror_mode": {
    "name": "ipython",
    "version": 3
   },
   "file_extension": ".py",
   "mimetype": "text/x-python",
   "name": "python",
   "nbconvert_exporter": "python",
   "pygments_lexer": "ipython3",
   "version": "3.7.7"
  }
 },
 "nbformat": 4,
 "nbformat_minor": 4
}
