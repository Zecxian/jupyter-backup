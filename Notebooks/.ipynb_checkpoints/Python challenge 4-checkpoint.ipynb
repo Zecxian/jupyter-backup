{
 "cells": [
  {
   "cell_type": "markdown",
   "metadata": {},
   "source": [
    "# Jonathan's first notebook\n",
    "## Section 2\n",
    "### Section 3\n",
    "\n",
    "And this is a bunch of text\n",
    "\n",
    "And this is a [url](http://www.google.com)"
   ]
  },
  {
   "cell_type": "code",
   "execution_count": 1,
   "metadata": {},
   "outputs": [
    {
     "name": "stdout",
     "output_type": "stream",
     "text": [
      "10\n"
     ]
    }
   ],
   "source": [
    "x=10\n",
    "print(x)"
   ]
  },
  {
   "cell_type": "code",
   "execution_count": 2,
   "metadata": {},
   "outputs": [
    {
     "data": {
      "text/plain": [
       "10"
      ]
     },
     "execution_count": 2,
     "metadata": {},
     "output_type": "execute_result"
    }
   ],
   "source": [
    "x\n"
   ]
  },
  {
   "cell_type": "code",
   "execution_count": 16,
   "metadata": {},
   "outputs": [
    {
     "name": "stdout",
     "output_type": "stream",
     "text": [
      "b'and the next nothing is 46561'\n",
      "32\n",
      "46561\n",
      "http://www.pythonchallenge.com/pc/def/linkedlist.php?nothing=16044\n"
     ]
    }
   ],
   "source": [
    "import urllib.request\n",
    "with urllib.request.urlopen(\"http://www.pythonchallenge.com/pc/def/linkedlist.php?nothing=58765\") as site:\n",
    "    words = str(site.read())\n",
    "print(words)\n",
    "print(len(words))\n",
    "print(words[26:-1])\n",
    "base = \"http://www.pythonchallenge.com/pc/def/linkedlist.php?nothing=\"\n",
    "nextNum = words[26:-1]\n",
    "nextURL = base + nextNum\n",
    "while True:\n",
    "    with urllib.request.urlopen(nextURL) as site:\n",
    "        words = str(site.read())\n",
    "    if not(\"and the next nothing is\" in words):\n",
    "        print(nextURL)\n",
    "        break\n",
    "    nextNum = \"\"\n",
    "    for i in words:\n",
    "        if i.isnumeric():\n",
    "            nextNum += i\n",
    "    nextURL = base + nextNum"
   ]
  },
  {
   "cell_type": "code",
   "execution_count": 17,
   "metadata": {},
   "outputs": [
    {
     "name": "stdout",
     "output_type": "stream",
     "text": [
      "http://www.pythonchallenge.com/pc/def/linkedlist.php?nothing=66831\n"
     ]
    }
   ],
   "source": [
    "nextURL = \"http://www.pythonchallenge.com/pc/def/linkedlist.php?nothing=8022\"\n",
    "while True:\n",
    "    with urllib.request.urlopen(nextURL) as site:\n",
    "        words = str(site.read())\n",
    "    if not(\"and the next nothing is\" in words):\n",
    "        print(nextURL)\n",
    "        break\n",
    "    nextNum = \"\"\n",
    "    for i in words:\n",
    "        if i.isnumeric():\n",
    "            nextNum += i\n",
    "    nextURL = base + nextNum"
   ]
  }
 ],
 "metadata": {
  "kernelspec": {
   "display_name": "Python 3",
   "language": "python",
   "name": "python3"
  },
  "language_info": {
   "codemirror_mode": {
    "name": "ipython",
    "version": 3
   },
   "file_extension": ".py",
   "mimetype": "text/x-python",
   "name": "python",
   "nbconvert_exporter": "python",
   "pygments_lexer": "ipython3",
   "version": "3.7.7"
  }
 },
 "nbformat": 4,
 "nbformat_minor": 4
}
